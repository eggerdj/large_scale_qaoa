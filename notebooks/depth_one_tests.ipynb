{
 "cells": [
  {
   "cell_type": "markdown",
   "id": "557435d5-3180-41d3-b0b6-97a7365e5b5f",
   "metadata": {},
   "source": [
    "# Efficient depth-one tests\n",
    "\n",
    "This notebook is a test for the efficient depth-one code to align the conventions. The convention in this repository is that the (depth-one) QAOA should create an Ansatz of the form\n",
    "\n",
    "\\begin{align}\n",
    "\\exp\\left(-i\\beta H_m\\right)\\exp\\left(-i\\gamma H_c\\right)\\vert+\\rangle^{\\otimes n}\n",
    "\\end{align}\n",
    "\n",
    "to **minimize** the energy of $H_c$. Since we are minimizing $\\langle H_c\\rangle$, the initial state of the ansatz should be the ground state of the mixer $H_m$. This enforces\n",
    "\\begin{align}\n",
    "H_m=-\\sum_iX_i.\n",
    "\\end{align}\n",
    "As cost operator we apply\n",
    "\\begin{align}\n",
    "H_c=\\sum_{i,j=0}^{n-1}w_{i,j}Z_iZ_j\n",
    "\\end{align}\n",
    "At the circuit level, these definitions imply that the exponential of the mixer is built with $R_x(-2\\beta)$ rotations and the exponential of the cost operator is built from $R_{zz}(2\\gamma w_{i,j})$."
   ]
  },
  {
   "cell_type": "code",
   "execution_count": 2,
   "id": "fcacaaa2-5efd-40f8-ae4c-941d19e9851d",
   "metadata": {},
   "source": [
    "paulis = [\n",
    "    [\"IIZZ\", 1.0],\n",
    "    [\"IZIZ\", 1.0],\n",
    "    [\"ZZII\", 1.0],\n",
    "    [\"ZIIZ\", 1.0],\n",
    "]"
   ],
   "outputs": []
  },
  {
   "cell_type": "code",
   "execution_count": 3,
   "id": "8464dcc5-f75f-403b-9f8f-112b0bf7f8fb",
   "metadata": {},
   "source": [
    "import matplotlib.pyplot as plt\n",
    "import networkx as nx\n",
    "import numpy as np\n",
    "\n",
    "from qiskit.providers.aer import AerSimulator\n",
    "\n",
    "from large_scale_qaoa.qaoa import ErrorMitigationQAOA\n",
    "from large_scale_qaoa.efficient_depth_one import energy"
   ],
   "outputs": []
  },
  {
   "cell_type": "code",
   "execution_count": 4,
   "id": "8f6725bf-4fc4-4107-a734-430addafe340",
   "metadata": {},
   "source": [
    "def build_max_cut_graph(paulis: list[tuple[str, float]]) -> nx.Graph:\n",
    "    \"\"\"Create a graph by parsing the pauli strings.\n",
    "\n",
    "    Args:\n",
    "        paulis: A list of Paulis given as tuple of Pauli string and\n",
    "            coefficient. E.g., `[(\"IZZI\", 1.0), (\"ZIZI\", 1.0)]`. Each\n",
    "            pauli is guaranteed to have two Z's.\n",
    "\n",
    "    Returns:\n",
    "        A networkx graph.\n",
    "    \"\"\"\n",
    "    wedges = []\n",
    "    for pauli_str, coeff in paulis:\n",
    "        wedges.append([idx for idx, char in enumerate(pauli_str[::-1]) if char == \"Z\"] + [{\"weight\": coeff}])\n",
    "    \n",
    "    return nx.DiGraph(wedges)"
   ],
   "outputs": []
  },
  {
   "cell_type": "code",
   "execution_count": 5,
   "id": "b53085a5-aaf3-4bd8-bc20-92e207aafa05",
   "metadata": {},
   "source": [
    "qaoa = ErrorMitigationQAOA(2**14, paulis, AerSimulator(method=\"automatic\"))"
   ],
   "outputs": []
  },
  {
   "cell_type": "code",
   "execution_count": 6,
   "id": "1a45ee5f-e9d8-4b95-a3f6-74f88a4842b8",
   "metadata": {},
   "source": [
    "wgraph = build_max_cut_graph(paulis)\n",
    "adj_mat = nx.adjacency_matrix(wgraph).toarray()\n",
    "adj_mat = adj_mat + adj_mat.T"
   ],
   "outputs": []
  },
  {
   "cell_type": "code",
   "execution_count": 7,
   "id": "af2481a7-08c2-40e7-a188-f4917de22d10",
   "metadata": {},
   "source": [
    "betas, gammas = np.linspace(0, np.pi, 15), np.linspace(0, np.pi, 15)\n",
    "energies1 = np.zeros((len(betas), len(gammas)))\n",
    "energies2 = np.zeros((len(betas), len(gammas)))\n",
    "\n",
    "for i, beta in enumerate(betas):\n",
    "    for j, gamma in enumerate(gammas):\n",
    "        energies1[i, j] = qaoa.cost_noisy([gamma, beta])\n",
    "        energies2[i, j] = energy(adj_mat, gamma, beta)"
   ],
   "outputs": []
  },
  {
   "cell_type": "code",
   "execution_count": 20,
   "id": "25ad8f5a-2bad-48a1-831c-478d8b881291",
   "metadata": {},
   "source": [
    "fig, axs = plt.subplots(1, 3, figsize=(16, 5))\n",
    "ggs, bbs = np.meshgrid(gammas, betas)\n",
    "cset1 = axs[0].contourf(ggs, bbs, energies1, levels=30)\n",
    "cset2 = axs[1].contourf(ggs, bbs, energies2, levels=30)\n",
    "cset3 = axs[2].contourf(ggs, bbs, (energies1 - energies2)*100, levels=30)\n",
    "for ax in axs:\n",
    "    ax.set_xlabel(\"gamma\")\n",
    "    ax.set_ylabel(\"beta\")\n",
    "fig.colorbar(cset1, ax=axs[0])\n",
    "fig.colorbar(cset2, ax=axs[1])\n",
    "fig.colorbar(cset3, ax=axs[2])\n",
    "axs[0].set_title(\"QASM simulation of energy\")\n",
    "axs[1].set_title(\"Efficient depth-one computation of energy\")\n",
    "axs[2].set_title(\"Difference (%)\")"
   ],
   "outputs": []
  },
  {
   "cell_type": "markdown",
   "id": "3f3ffc02-4919-47f3-8f89-1cb90aa2cf14",
   "metadata": {},
   "source": [
    "Note that the deviation we observe is expected. Indeed, the simulator is a sampling based simulator and we can expect fluctuations of the order of\n",
    "\\begin{align}\n",
    "\\frac{|A|}{\\sqrt{N_\\text{shots}}}\n",
    "\\end{align}\n",
    "where $N_\\text{shots}$ is the number of shots and $|A|$ is the norm of the energy landscape. This evaluates to"
   ]
  },
  {
   "cell_type": "code",
   "execution_count": 34,
   "id": "47bf26f0-1b17-4f84-9488-0942d689fb06",
   "metadata": {},
   "source": [
    "max_range = np.max(energies1) - np.min(energies1)\n",
    "max_diff = np.max(np.abs(energies1 - energies2))"
   ],
   "outputs": []
  },
  {
   "cell_type": "code",
   "execution_count": 35,
   "id": "2df793aa-a7c7-4a76-88d0-cf63d1d45323",
   "metadata": {},
   "source": [
    "max_diff"
   ],
   "outputs": []
  },
  {
   "cell_type": "code",
   "execution_count": 36,
   "id": "05762839-b07f-4891-bf2e-bfc67aef28a0",
   "metadata": {},
   "source": [
    "2 * max_range / np.sqrt(2**14)"
   ],
   "outputs": []
  },
  {
   "cell_type": "code",
   "execution_count": null,
   "id": "7186b000-0fa4-4df3-a02e-edf162e9612a",
   "metadata": {},
   "source": [],
   "outputs": []
  }
 ],
 "metadata": {
  "kernelspec": {
   "display_name": "Python 3 (ipykernel)",
   "language": "python",
   "name": "python3"
  },
  "language_info": {
   "codemirror_mode": {
    "name": "ipython",
    "version": 3
   },
   "file_extension": ".py",
   "mimetype": "text/x-python",
   "name": "python",
   "nbconvert_exporter": "python",
   "pygments_lexer": "ipython3",
   "version": "3.11.5"
  }
 },
 "nbformat": 4,
 "nbformat_minor": 5
}
